{
 "cells": [
  {
   "cell_type": "markdown",
   "metadata": {
    "id": "-85A0yoFFzNN"
   },
   "source": [
    "## Motor de recomendación, biblioteca Luis Ángel Arango\n",
    "### Miguel García\n",
    "### Mariana León"
   ]
  },
  {
   "cell_type": "markdown",
   "metadata": {
    "id": "XXnDFd_mF-Mw"
   },
   "source": [
    "## Procesamiento de los datos"
   ]
  },
  {
   "cell_type": "code",
   "execution_count": 1,
   "metadata": {
    "id": "yw0-1nBoHI7F"
   },
   "outputs": [],
   "source": [
    "import pandas as pd\n",
    "import numpy as np\n",
    "from sklearn.preprocessing import LabelEncoder\n",
    "import pytorch_lightning as pl\n",
    "import torch\n",
    "import torch.nn as nn\n",
    "from torch.utils.data import Dataset, DataLoader"
   ]
  },
  {
   "cell_type": "code",
   "execution_count": 2,
   "metadata": {
    "colab": {
     "base_uri": "https://localhost:8080/"
    },
    "id": "bxHscsGOHPYQ",
    "outputId": "b13d483f-4539-4f33-9bb0-edf553d10226"
   },
   "outputs": [
    {
     "name": "stdout",
     "output_type": "stream",
     "text": [
      "CPU times: total: 7min 51s\n",
      "Wall time: 17min 31s\n"
     ]
    }
   ],
   "source": [
    "%%time\n",
    "datos = pd.read_excel(\"CIRCULA_23_TRANSF_S.xlsx\", sheet_name=\"CIRCULA_2023\")"
   ]
  },
  {
   "cell_type": "code",
   "execution_count": 3,
   "metadata": {
    "colab": {
     "base_uri": "https://localhost:8080/",
     "height": 502
    },
    "id": "js6yd2oyX5sQ",
    "outputId": "665590ff-9dc6-4197-b7ce-fbc2afeea4ae"
   },
   "outputs": [
    {
     "data": {
      "text/html": [
       "<div>\n",
       "<style scoped>\n",
       "    .dataframe tbody tr th:only-of-type {\n",
       "        vertical-align: middle;\n",
       "    }\n",
       "\n",
       "    .dataframe tbody tr th {\n",
       "        vertical-align: top;\n",
       "    }\n",
       "\n",
       "    .dataframe thead th {\n",
       "        text-align: right;\n",
       "    }\n",
       "</style>\n",
       "<table border=\"1\" class=\"dataframe\">\n",
       "  <thead>\n",
       "    <tr style=\"text-align: right;\">\n",
       "      <th></th>\n",
       "      <th>Biblioteca de Prestamo</th>\n",
       "      <th>Meson de Circulación</th>\n",
       "      <th>Cod Biblioteca origen Item</th>\n",
       "      <th>Biblioteca origen Item</th>\n",
       "      <th>Cod de Localizacion</th>\n",
       "      <th>Localización Item</th>\n",
       "      <th>Prestamos en Sala</th>\n",
       "      <th>Prestamos Externo</th>\n",
       "      <th>Barcode</th>\n",
       "      <th>MMS Id</th>\n",
       "      <th>...</th>\n",
       "      <th>Fecha de ingreso del Item</th>\n",
       "      <th>Categoría Socio</th>\n",
       "      <th>Identificador Socio</th>\n",
       "      <th>dewey</th>\n",
       "      <th>Dewey_1</th>\n",
       "      <th>Dewey3</th>\n",
       "      <th>Dewey4.1</th>\n",
       "      <th>Dewey4.1 - Copia</th>\n",
       "      <th>Dewey_2</th>\n",
       "      <th>TIPO MATERIAL</th>\n",
       "    </tr>\n",
       "  </thead>\n",
       "  <tbody>\n",
       "    <tr>\n",
       "      <th>0</th>\n",
       "      <td>Biblioteca Luis Ángel Arango</td>\n",
       "      <td>Préstamo Externo Calle 12 - Solo socios</td>\n",
       "      <td>BLAA</td>\n",
       "      <td>Biblioteca Luis Ángel Arango</td>\n",
       "      <td>DC1</td>\n",
       "      <td>Depósito C1</td>\n",
       "      <td>0</td>\n",
       "      <td>1</td>\n",
       "      <td>29004006168206</td>\n",
       "      <td>991009934269707486</td>\n",
       "      <td>...</td>\n",
       "      <td>1997-12-30 00:00:00</td>\n",
       "      <td>Categoría Biblioteca Virtual</td>\n",
       "      <td>3900488</td>\n",
       "      <td>Co868.5 S45p1</td>\n",
       "      <td>2</td>\n",
       "      <td>868.5 S45p1</td>\n",
       "      <td>868</td>\n",
       "      <td>868.0</td>\n",
       "      <td>860</td>\n",
       "      <td>LIBRO</td>\n",
       "    </tr>\n",
       "    <tr>\n",
       "      <th>1</th>\n",
       "      <td>Biblioteca Luis Ángel Arango</td>\n",
       "      <td>Préstamo Externo Calle 12 - Solo socios</td>\n",
       "      <td>BLAA</td>\n",
       "      <td>Biblioteca Luis Ángel Arango</td>\n",
       "      <td>DD1</td>\n",
       "      <td>Depósito D1</td>\n",
       "      <td>0</td>\n",
       "      <td>1</td>\n",
       "      <td>29004005863906</td>\n",
       "      <td>991013769509707486</td>\n",
       "      <td>...</td>\n",
       "      <td>1997-02-24 00:00:00</td>\n",
       "      <td>Categoría Biblioteca Virtual</td>\n",
       "      <td>3900488</td>\n",
       "      <td>928.61 S45j1</td>\n",
       "      <td>0</td>\n",
       "      <td>928.61 S45j1</td>\n",
       "      <td>928</td>\n",
       "      <td>928.0</td>\n",
       "      <td>920</td>\n",
       "      <td>LIBRO</td>\n",
       "    </tr>\n",
       "    <tr>\n",
       "      <th>2</th>\n",
       "      <td>Biblioteca Luis Ángel Arango</td>\n",
       "      <td>Préstamo Externo Calle 12 - Solo socios</td>\n",
       "      <td>BLAA</td>\n",
       "      <td>Biblioteca Luis Ángel Arango</td>\n",
       "      <td>DD1</td>\n",
       "      <td>Depósito D1</td>\n",
       "      <td>0</td>\n",
       "      <td>1</td>\n",
       "      <td>29004007799355</td>\n",
       "      <td>991008897989707486</td>\n",
       "      <td>...</td>\n",
       "      <td>2000-05-22 00:00:00</td>\n",
       "      <td>Categoría Biblioteca Virtual</td>\n",
       "      <td>3900488</td>\n",
       "      <td>986.251 B82</td>\n",
       "      <td>0</td>\n",
       "      <td>986.251 B82</td>\n",
       "      <td>986</td>\n",
       "      <td>986.0</td>\n",
       "      <td>980</td>\n",
       "      <td>LIBRO</td>\n",
       "    </tr>\n",
       "    <tr>\n",
       "      <th>3</th>\n",
       "      <td>Biblioteca Luis Ángel Arango</td>\n",
       "      <td>Préstamo Externo Calle 12 - Solo socios</td>\n",
       "      <td>BLAA</td>\n",
       "      <td>Biblioteca Luis Ángel Arango</td>\n",
       "      <td>DD1</td>\n",
       "      <td>Depósito D1</td>\n",
       "      <td>0</td>\n",
       "      <td>1</td>\n",
       "      <td>29004017298190</td>\n",
       "      <td>991005656579707486</td>\n",
       "      <td>...</td>\n",
       "      <td>2005-03-22 00:00:00</td>\n",
       "      <td>Categoría Biblioteca Virtual</td>\n",
       "      <td>3900488</td>\n",
       "      <td>928.61 S45v2</td>\n",
       "      <td>0</td>\n",
       "      <td>928.61 S45v2</td>\n",
       "      <td>928</td>\n",
       "      <td>928.0</td>\n",
       "      <td>920</td>\n",
       "      <td>LIBRO</td>\n",
       "    </tr>\n",
       "  </tbody>\n",
       "</table>\n",
       "<p>4 rows × 30 columns</p>\n",
       "</div>"
      ],
      "text/plain": [
       "         Biblioteca de Prestamo                     Meson de Circulación  \\\n",
       "0  Biblioteca Luis Ángel Arango  Préstamo Externo Calle 12 - Solo socios   \n",
       "1  Biblioteca Luis Ángel Arango  Préstamo Externo Calle 12 - Solo socios   \n",
       "2  Biblioteca Luis Ángel Arango  Préstamo Externo Calle 12 - Solo socios   \n",
       "3  Biblioteca Luis Ángel Arango  Préstamo Externo Calle 12 - Solo socios   \n",
       "\n",
       "  Cod Biblioteca origen Item        Biblioteca origen Item  \\\n",
       "0                       BLAA  Biblioteca Luis Ángel Arango   \n",
       "1                       BLAA  Biblioteca Luis Ángel Arango   \n",
       "2                       BLAA  Biblioteca Luis Ángel Arango   \n",
       "3                       BLAA  Biblioteca Luis Ángel Arango   \n",
       "\n",
       "  Cod de Localizacion Localización Item  Prestamos en Sala  Prestamos Externo  \\\n",
       "0                 DC1       Depósito C1                  0                  1   \n",
       "1                 DD1       Depósito D1                  0                  1   \n",
       "2                 DD1       Depósito D1                  0                  1   \n",
       "3                 DD1       Depósito D1                  0                  1   \n",
       "\n",
       "          Barcode              MMS Id  ... Fecha de ingreso del Item  \\\n",
       "0  29004006168206  991009934269707486  ...       1997-12-30 00:00:00   \n",
       "1  29004005863906  991013769509707486  ...       1997-02-24 00:00:00   \n",
       "2  29004007799355  991008897989707486  ...       2000-05-22 00:00:00   \n",
       "3  29004017298190  991005656579707486  ...       2005-03-22 00:00:00   \n",
       "\n",
       "                Categoría Socio Identificador Socio          dewey Dewey_1  \\\n",
       "0  Categoría Biblioteca Virtual             3900488  Co868.5 S45p1       2   \n",
       "1  Categoría Biblioteca Virtual             3900488   928.61 S45j1       0   \n",
       "2  Categoría Biblioteca Virtual             3900488    986.251 B82       0   \n",
       "3  Categoría Biblioteca Virtual             3900488   928.61 S45v2       0   \n",
       "\n",
       "         Dewey3 Dewey4.1 Dewey4.1 - Copia Dewey_2 TIPO MATERIAL  \n",
       "0   868.5 S45p1      868            868.0     860         LIBRO  \n",
       "1  928.61 S45j1      928            928.0     920         LIBRO  \n",
       "2   986.251 B82      986            986.0     980         LIBRO  \n",
       "3  928.61 S45v2      928            928.0     920         LIBRO  \n",
       "\n",
       "[4 rows x 30 columns]"
      ]
     },
     "execution_count": 3,
     "metadata": {},
     "output_type": "execute_result"
    }
   ],
   "source": [
    "datos.head(4)"
   ]
  },
  {
   "cell_type": "markdown",
   "metadata": {},
   "source": [
    "### Usando los prestamos externos"
   ]
  },
  {
   "cell_type": "code",
   "execution_count": 4,
   "metadata": {
    "colab": {
     "base_uri": "https://localhost:8080/"
    },
    "id": "SFJveTTxwXiQ",
    "outputId": "3a56bbbe-b33d-4b06-bd3e-130bcd25dd38"
   },
   "outputs": [
    {
     "data": {
      "text/plain": [
       "(807075, 30)"
      ]
     },
     "execution_count": 4,
     "metadata": {},
     "output_type": "execute_result"
    }
   ],
   "source": [
    "datos.shape"
   ]
  },
  {
   "cell_type": "code",
   "execution_count": 5,
   "metadata": {
    "colab": {
     "base_uri": "https://localhost:8080/"
    },
    "id": "0gWlXmwijhiG",
    "outputId": "2bf45b7d-e108-429a-c646-a6cde0d52bb6"
   },
   "outputs": [
    {
     "data": {
      "text/plain": [
       "(362338, 30)"
      ]
     },
     "execution_count": 5,
     "metadata": {},
     "output_type": "execute_result"
    }
   ],
   "source": [
    "datos1 = datos[datos['Prestamos Externo'] == 1]\n",
    "datos1.shape"
   ]
  },
  {
   "cell_type": "code",
   "execution_count": 6,
   "metadata": {
    "colab": {
     "base_uri": "https://localhost:8080/"
    },
    "id": "MwEKUAr1VKMg",
    "outputId": "cb48b8b1-262f-4d09-821c-0d9563379cda"
   },
   "outputs": [
    {
     "data": {
      "text/plain": [
       "(362338, 3)"
      ]
     },
     "execution_count": 6,
     "metadata": {},
     "output_type": "execute_result"
    }
   ],
   "source": [
    "prestamos = datos1.get(['Identificador Socio', 'Título','Fecha de préstamo'])\n",
    "prestamos.shape"
   ]
  },
  {
   "cell_type": "markdown",
   "metadata": {
    "id": "UIjbzgv04b4Y"
   },
   "source": [
    "### Registros duplicados"
   ]
  },
  {
   "cell_type": "code",
   "execution_count": 7,
   "metadata": {},
   "outputs": [
    {
     "data": {
      "text/html": [
       "<div>\n",
       "<style scoped>\n",
       "    .dataframe tbody tr th:only-of-type {\n",
       "        vertical-align: middle;\n",
       "    }\n",
       "\n",
       "    .dataframe tbody tr th {\n",
       "        vertical-align: top;\n",
       "    }\n",
       "\n",
       "    .dataframe thead th {\n",
       "        text-align: right;\n",
       "    }\n",
       "</style>\n",
       "<table border=\"1\" class=\"dataframe\">\n",
       "  <thead>\n",
       "    <tr style=\"text-align: right;\">\n",
       "      <th></th>\n",
       "      <th>Identificador Socio</th>\n",
       "      <th>Título</th>\n",
       "      <th>count</th>\n",
       "    </tr>\n",
       "  </thead>\n",
       "  <tbody>\n",
       "    <tr>\n",
       "      <th>0</th>\n",
       "      <td>39004880069254</td>\n",
       "      <td>el pais</td>\n",
       "      <td>61</td>\n",
       "    </tr>\n",
       "    <tr>\n",
       "      <th>1</th>\n",
       "      <td>39004880023558</td>\n",
       "      <td>noticias historiales de las conquistas de tier...</td>\n",
       "      <td>55</td>\n",
       "    </tr>\n",
       "    <tr>\n",
       "      <th>2</th>\n",
       "      <td>39004880041808</td>\n",
       "      <td>el espectador</td>\n",
       "      <td>36</td>\n",
       "    </tr>\n",
       "    <tr>\n",
       "      <th>3</th>\n",
       "      <td>196366477</td>\n",
       "      <td>revista de medicina legal de colombia</td>\n",
       "      <td>34</td>\n",
       "    </tr>\n",
       "    <tr>\n",
       "      <th>4</th>\n",
       "      <td>197183031</td>\n",
       "      <td>cromos revista semanal ilustrada</td>\n",
       "      <td>30</td>\n",
       "    </tr>\n",
       "  </tbody>\n",
       "</table>\n",
       "</div>"
      ],
      "text/plain": [
       "  Identificador Socio                                             Título  \\\n",
       "0      39004880069254                                            el pais   \n",
       "1      39004880023558  noticias historiales de las conquistas de tier...   \n",
       "2      39004880041808                                      el espectador   \n",
       "3           196366477              revista de medicina legal de colombia   \n",
       "4           197183031                   cromos revista semanal ilustrada   \n",
       "\n",
       "   count  \n",
       "0     61  \n",
       "1     55  \n",
       "2     36  \n",
       "3     34  \n",
       "4     30  "
      ]
     },
     "execution_count": 7,
     "metadata": {},
     "output_type": "execute_result"
    }
   ],
   "source": [
    "frecuencia = prestamos[['Identificador Socio','Título']].value_counts().reset_index()\n",
    "duplicados = frecuencia[frecuencia['count'] > 1]\n",
    "duplicados.head()"
   ]
  },
  {
   "cell_type": "code",
   "execution_count": 8,
   "metadata": {},
   "outputs": [
    {
     "data": {
      "text/plain": [
       "9.71"
      ]
     },
     "execution_count": 8,
     "metadata": {},
     "output_type": "execute_result"
    }
   ],
   "source": [
    "round((duplicados.shape[0]/prestamos.shape[0])*100,2)"
   ]
  },
  {
   "cell_type": "markdown",
   "metadata": {},
   "source": [
    "El 9.71% de los datos se quitan al ser repeticiones de un mismo prestamo."
   ]
  },
  {
   "cell_type": "code",
   "execution_count": 9,
   "metadata": {},
   "outputs": [
    {
     "data": {
      "text/html": [
       "<div>\n",
       "<style scoped>\n",
       "    .dataframe tbody tr th:only-of-type {\n",
       "        vertical-align: middle;\n",
       "    }\n",
       "\n",
       "    .dataframe tbody tr th {\n",
       "        vertical-align: top;\n",
       "    }\n",
       "\n",
       "    .dataframe thead th {\n",
       "        text-align: right;\n",
       "    }\n",
       "</style>\n",
       "<table border=\"1\" class=\"dataframe\">\n",
       "  <thead>\n",
       "    <tr style=\"text-align: right;\">\n",
       "      <th></th>\n",
       "      <th>Identificador Socio</th>\n",
       "      <th>Título</th>\n",
       "      <th>count</th>\n",
       "    </tr>\n",
       "  </thead>\n",
       "  <tbody>\n",
       "    <tr>\n",
       "      <th>0</th>\n",
       "      <td>39004880069254</td>\n",
       "      <td>el pais</td>\n",
       "      <td>61</td>\n",
       "    </tr>\n",
       "    <tr>\n",
       "      <th>1</th>\n",
       "      <td>39004880023558</td>\n",
       "      <td>noticias historiales de las conquistas de tier...</td>\n",
       "      <td>55</td>\n",
       "    </tr>\n",
       "    <tr>\n",
       "      <th>2</th>\n",
       "      <td>39004880041808</td>\n",
       "      <td>el espectador</td>\n",
       "      <td>36</td>\n",
       "    </tr>\n",
       "    <tr>\n",
       "      <th>3</th>\n",
       "      <td>196366477</td>\n",
       "      <td>revista de medicina legal de colombia</td>\n",
       "      <td>34</td>\n",
       "    </tr>\n",
       "    <tr>\n",
       "      <th>4</th>\n",
       "      <td>197183031</td>\n",
       "      <td>cromos revista semanal ilustrada</td>\n",
       "      <td>30</td>\n",
       "    </tr>\n",
       "  </tbody>\n",
       "</table>\n",
       "</div>"
      ],
      "text/plain": [
       "  Identificador Socio                                             Título  \\\n",
       "0      39004880069254                                            el pais   \n",
       "1      39004880023558  noticias historiales de las conquistas de tier...   \n",
       "2      39004880041808                                      el espectador   \n",
       "3           196366477              revista de medicina legal de colombia   \n",
       "4           197183031                   cromos revista semanal ilustrada   \n",
       "\n",
       "   count  \n",
       "0     61  \n",
       "1     55  \n",
       "2     36  \n",
       "3     34  \n",
       "4     30  "
      ]
     },
     "execution_count": 9,
     "metadata": {},
     "output_type": "execute_result"
    }
   ],
   "source": [
    "duplicados.head()"
   ]
  },
  {
   "cell_type": "code",
   "execution_count": 10,
   "metadata": {},
   "outputs": [
    {
     "data": {
      "text/html": [
       "<div>\n",
       "<style scoped>\n",
       "    .dataframe tbody tr th:only-of-type {\n",
       "        vertical-align: middle;\n",
       "    }\n",
       "\n",
       "    .dataframe tbody tr th {\n",
       "        vertical-align: top;\n",
       "    }\n",
       "\n",
       "    .dataframe thead th {\n",
       "        text-align: right;\n",
       "    }\n",
       "</style>\n",
       "<table border=\"1\" class=\"dataframe\">\n",
       "  <thead>\n",
       "    <tr style=\"text-align: right;\">\n",
       "      <th></th>\n",
       "      <th>Identificador Socio</th>\n",
       "      <th>Título</th>\n",
       "      <th>count</th>\n",
       "    </tr>\n",
       "  </thead>\n",
       "  <tbody>\n",
       "    <tr>\n",
       "      <th>0</th>\n",
       "      <td>000184724</td>\n",
       "      <td>acordeones cumbiamba y vallenato en el magdale...</td>\n",
       "      <td>1</td>\n",
       "    </tr>\n",
       "    <tr>\n",
       "      <th>1</th>\n",
       "      <td>39004885699246</td>\n",
       "      <td>ideas socialistas en colombia</td>\n",
       "      <td>1</td>\n",
       "    </tr>\n",
       "    <tr>\n",
       "      <th>2</th>\n",
       "      <td>39004885699246</td>\n",
       "      <td>escritura o la vida</td>\n",
       "      <td>1</td>\n",
       "    </tr>\n",
       "    <tr>\n",
       "      <th>3</th>\n",
       "      <td>39004885699246</td>\n",
       "      <td>condenados de la tierra</td>\n",
       "      <td>1</td>\n",
       "    </tr>\n",
       "    <tr>\n",
       "      <th>4</th>\n",
       "      <td>39004885699246</td>\n",
       "      <td>arte de amar</td>\n",
       "      <td>1</td>\n",
       "    </tr>\n",
       "  </tbody>\n",
       "</table>\n",
       "</div>"
      ],
      "text/plain": [
       "  Identificador Socio                                             Título  \\\n",
       "0           000184724  acordeones cumbiamba y vallenato en el magdale...   \n",
       "1      39004885699246                      ideas socialistas en colombia   \n",
       "2      39004885699246                                escritura o la vida   \n",
       "3      39004885699246                            condenados de la tierra   \n",
       "4      39004885699246                                       arte de amar   \n",
       "\n",
       "   count  \n",
       "0      1  \n",
       "1      1  \n",
       "2      1  \n",
       "3      1  \n",
       "4      1  "
      ]
     },
     "execution_count": 10,
     "metadata": {},
     "output_type": "execute_result"
    }
   ],
   "source": [
    "prestamos1 = prestamos.drop_duplicates(subset=['Identificador Socio','Título'])\n",
    "frecuencia1 = prestamos1[['Identificador Socio','Título']].value_counts().reset_index()\n",
    "frecuencia1.head()"
   ]
  },
  {
   "cell_type": "code",
   "execution_count": 11,
   "metadata": {},
   "outputs": [
    {
     "data": {
      "text/plain": [
       "array([ True])"
      ]
     },
     "execution_count": 11,
     "metadata": {},
     "output_type": "execute_result"
    }
   ],
   "source": [
    "verificacion  = duplicados[['Identificador Socio','Título']].apply(tuple, axis=1).isin(frecuencia1[['Identificador Socio','Título']].apply(tuple, axis=1))\n",
    "verificacion.unique()"
   ]
  },
  {
   "cell_type": "markdown",
   "metadata": {},
   "source": [
    "Se verifico que no se eliminaron las observaciones con duplicados, sino solo sus copias."
   ]
  },
  {
   "cell_type": "markdown",
   "metadata": {},
   "source": [
    "### Libros que solo se han prestado una vez"
   ]
  },
  {
   "cell_type": "code",
   "execution_count": 12,
   "metadata": {},
   "outputs": [
    {
     "data": {
      "text/html": [
       "<div>\n",
       "<style scoped>\n",
       "    .dataframe tbody tr th:only-of-type {\n",
       "        vertical-align: middle;\n",
       "    }\n",
       "\n",
       "    .dataframe tbody tr th {\n",
       "        vertical-align: top;\n",
       "    }\n",
       "\n",
       "    .dataframe thead th {\n",
       "        text-align: right;\n",
       "    }\n",
       "</style>\n",
       "<table border=\"1\" class=\"dataframe\">\n",
       "  <thead>\n",
       "    <tr style=\"text-align: right;\">\n",
       "      <th></th>\n",
       "      <th>Título</th>\n",
       "      <th>count</th>\n",
       "    </tr>\n",
       "  </thead>\n",
       "  <tbody>\n",
       "    <tr>\n",
       "      <th>39564</th>\n",
       "      <td>arquitectura caribena puerto limon bocas del toro</td>\n",
       "      <td>1</td>\n",
       "    </tr>\n",
       "    <tr>\n",
       "      <th>39565</th>\n",
       "      <td>contratacion electronica</td>\n",
       "      <td>1</td>\n",
       "    </tr>\n",
       "    <tr>\n",
       "      <th>39566</th>\n",
       "      <td>vulnerabilidad y derechos de la ninez</td>\n",
       "      <td>1</td>\n",
       "    </tr>\n",
       "    <tr>\n",
       "      <th>39567</th>\n",
       "      <td>seis noches en la acropolis</td>\n",
       "      <td>1</td>\n",
       "    </tr>\n",
       "    <tr>\n",
       "      <th>39568</th>\n",
       "      <td>fortalezas y debilidades del nuevo codigo de p...</td>\n",
       "      <td>1</td>\n",
       "    </tr>\n",
       "  </tbody>\n",
       "</table>\n",
       "</div>"
      ],
      "text/plain": [
       "                                                  Título  count\n",
       "39564  arquitectura caribena puerto limon bocas del toro      1\n",
       "39565                           contratacion electronica      1\n",
       "39566              vulnerabilidad y derechos de la ninez      1\n",
       "39567                        seis noches en la acropolis      1\n",
       "39568  fortalezas y debilidades del nuevo codigo de p...      1"
      ]
     },
     "execution_count": 12,
     "metadata": {},
     "output_type": "execute_result"
    }
   ],
   "source": [
    "frec_libro = prestamos1['Título'].value_counts().reset_index()\n",
    "libros_pocos = frec_libro[frec_libro['count']==1]\n",
    "libros_pocos.head()"
   ]
  },
  {
   "cell_type": "code",
   "execution_count": 13,
   "metadata": {},
   "outputs": [
    {
     "data": {
      "text/plain": [
       "18.35"
      ]
     },
     "execution_count": 13,
     "metadata": {},
     "output_type": "execute_result"
    }
   ],
   "source": [
    "round((libros_pocos.shape[0]/prestamos1.shape[0])*100,2)"
   ]
  },
  {
   "cell_type": "markdown",
   "metadata": {},
   "source": [
    "Al rededor del 18.35% de las observaciones son de libros que se prestaron una unica vez"
   ]
  },
  {
   "cell_type": "code",
   "execution_count": 14,
   "metadata": {},
   "outputs": [
    {
     "data": {
      "text/plain": [
       "(309708, 3)"
      ]
     },
     "execution_count": 14,
     "metadata": {},
     "output_type": "execute_result"
    }
   ],
   "source": [
    "prestamos1.shape"
   ]
  },
  {
   "cell_type": "code",
   "execution_count": 15,
   "metadata": {},
   "outputs": [
    {
     "data": {
      "text/plain": [
       "(252892, 3)"
      ]
     },
     "execution_count": 15,
     "metadata": {},
     "output_type": "execute_result"
    }
   ],
   "source": [
    "prestamos2 = prestamos1[~prestamos1['Título'].isin(libros_pocos['Título'])]\n",
    "prestamos2.shape"
   ]
  },
  {
   "cell_type": "markdown",
   "metadata": {},
   "source": [
    "### Usuarios que han sacado dos libros"
   ]
  },
  {
   "cell_type": "code",
   "execution_count": 16,
   "metadata": {},
   "outputs": [
    {
     "data": {
      "text/html": [
       "<div>\n",
       "<style scoped>\n",
       "    .dataframe tbody tr th:only-of-type {\n",
       "        vertical-align: middle;\n",
       "    }\n",
       "\n",
       "    .dataframe tbody tr th {\n",
       "        vertical-align: top;\n",
       "    }\n",
       "\n",
       "    .dataframe thead th {\n",
       "        text-align: right;\n",
       "    }\n",
       "</style>\n",
       "<table border=\"1\" class=\"dataframe\">\n",
       "  <thead>\n",
       "    <tr style=\"text-align: right;\">\n",
       "      <th></th>\n",
       "      <th>Identificador Socio</th>\n",
       "      <th>count</th>\n",
       "    </tr>\n",
       "  </thead>\n",
       "  <tbody>\n",
       "    <tr>\n",
       "      <th>21762</th>\n",
       "      <td>39004886348058</td>\n",
       "      <td>2</td>\n",
       "    </tr>\n",
       "    <tr>\n",
       "      <th>21763</th>\n",
       "      <td>201332905</td>\n",
       "      <td>2</td>\n",
       "    </tr>\n",
       "    <tr>\n",
       "      <th>21764</th>\n",
       "      <td>201273517</td>\n",
       "      <td>2</td>\n",
       "    </tr>\n",
       "    <tr>\n",
       "      <th>21765</th>\n",
       "      <td>201433049</td>\n",
       "      <td>2</td>\n",
       "    </tr>\n",
       "    <tr>\n",
       "      <th>21766</th>\n",
       "      <td>200919904</td>\n",
       "      <td>2</td>\n",
       "    </tr>\n",
       "  </tbody>\n",
       "</table>\n",
       "</div>"
      ],
      "text/plain": [
       "      Identificador Socio  count\n",
       "21762      39004886348058      2\n",
       "21763           201332905      2\n",
       "21764           201273517      2\n",
       "21765           201433049      2\n",
       "21766           200919904      2"
      ]
     },
     "execution_count": 16,
     "metadata": {},
     "output_type": "execute_result"
    }
   ],
   "source": [
    "frec_socio = prestamos2['Identificador Socio'].value_counts().reset_index()\n",
    "socios_pocos = frec_socio[frec_socio['count'] < 3]\n",
    "socios_pocos.head()"
   ]
  },
  {
   "cell_type": "code",
   "execution_count": 17,
   "metadata": {},
   "outputs": [
    {
     "data": {
      "text/plain": [
       "4.67"
      ]
     },
     "execution_count": 17,
     "metadata": {},
     "output_type": "execute_result"
    }
   ],
   "source": [
    "round((socios_pocos.shape[0]/prestamos2.shape[0])*100,2)"
   ]
  },
  {
   "cell_type": "markdown",
   "metadata": {},
   "source": [
    "El 4.67% de usuarios no son aptos para el motor de recomendación por poco uso"
   ]
  },
  {
   "cell_type": "code",
   "execution_count": 18,
   "metadata": {},
   "outputs": [
    {
     "data": {
      "text/plain": [
       "(236096, 3)"
      ]
     },
     "execution_count": 18,
     "metadata": {},
     "output_type": "execute_result"
    }
   ],
   "source": [
    "prestamos3 = prestamos2[~prestamos2['Identificador Socio'].isin(socios_pocos['Identificador Socio'])]\n",
    "prestamos3.shape"
   ]
  },
  {
   "cell_type": "markdown",
   "metadata": {
    "id": "-rV_tLn07nEu"
   },
   "source": [
    "### Codificación de usuarios y libros"
   ]
  },
  {
   "cell_type": "code",
   "execution_count": 19,
   "metadata": {
    "colab": {
     "base_uri": "https://localhost:8080/",
     "height": 206
    },
    "id": "g1e4byUg850-",
    "outputId": "a1186dc2-8d43-4614-8123-702c627c1928"
   },
   "outputs": [
    {
     "data": {
      "text/html": [
       "<div>\n",
       "<style scoped>\n",
       "    .dataframe tbody tr th:only-of-type {\n",
       "        vertical-align: middle;\n",
       "    }\n",
       "\n",
       "    .dataframe tbody tr th {\n",
       "        vertical-align: top;\n",
       "    }\n",
       "\n",
       "    .dataframe thead th {\n",
       "        text-align: right;\n",
       "    }\n",
       "</style>\n",
       "<table border=\"1\" class=\"dataframe\">\n",
       "  <thead>\n",
       "    <tr style=\"text-align: right;\">\n",
       "      <th></th>\n",
       "      <th>Identificador Socio</th>\n",
       "      <th>Título</th>\n",
       "      <th>Fecha de préstamo</th>\n",
       "    </tr>\n",
       "  </thead>\n",
       "  <tbody>\n",
       "    <tr>\n",
       "      <th>0</th>\n",
       "      <td>3900488</td>\n",
       "      <td>poesia y prosa con 44 textos sobre el autor</td>\n",
       "      <td>2023-05-12</td>\n",
       "    </tr>\n",
       "    <tr>\n",
       "      <th>1</th>\n",
       "      <td>3900488</td>\n",
       "      <td>jose asuncion silva el corazon del poeta</td>\n",
       "      <td>2023-03-15</td>\n",
       "    </tr>\n",
       "    <tr>\n",
       "      <th>2</th>\n",
       "      <td>3900488</td>\n",
       "      <td>bucaramanga pasado y presente</td>\n",
       "      <td>2023-02-22</td>\n",
       "    </tr>\n",
       "    <tr>\n",
       "      <th>3</th>\n",
       "      <td>3900488</td>\n",
       "      <td>almas en pena chapolas negras</td>\n",
       "      <td>2023-03-15</td>\n",
       "    </tr>\n",
       "    <tr>\n",
       "      <th>6</th>\n",
       "      <td>3900488</td>\n",
       "      <td>santander en mis mejores fotografias</td>\n",
       "      <td>2023-02-22</td>\n",
       "    </tr>\n",
       "  </tbody>\n",
       "</table>\n",
       "</div>"
      ],
      "text/plain": [
       "  Identificador Socio                                       Título  \\\n",
       "0             3900488  poesia y prosa con 44 textos sobre el autor   \n",
       "1             3900488     jose asuncion silva el corazon del poeta   \n",
       "2             3900488                bucaramanga pasado y presente   \n",
       "3             3900488                almas en pena chapolas negras   \n",
       "6             3900488         santander en mis mejores fotografias   \n",
       "\n",
       "  Fecha de préstamo  \n",
       "0        2023-05-12  \n",
       "1        2023-03-15  \n",
       "2        2023-02-22  \n",
       "3        2023-03-15  \n",
       "6        2023-02-22  "
      ]
     },
     "execution_count": 19,
     "metadata": {},
     "output_type": "execute_result"
    }
   ],
   "source": [
    "prestamos3.head()"
   ]
  },
  {
   "cell_type": "code",
   "execution_count": 20,
   "metadata": {
    "id": "U_UMFexM7qlF"
   },
   "outputs": [
    {
     "name": "stderr",
     "output_type": "stream",
     "text": [
      "C:\\Users\\acer\\AppData\\Local\\Temp\\ipykernel_12528\\228931272.py:4: SettingWithCopyWarning: \n",
      "A value is trying to be set on a copy of a slice from a DataFrame.\n",
      "Try using .loc[row_indexer,col_indexer] = value instead\n",
      "\n",
      "See the caveats in the documentation: https://pandas.pydata.org/pandas-docs/stable/user_guide/indexing.html#returning-a-view-versus-a-copy\n",
      "  prestamos3.loc[:,'COD_SOCIO'] = cod_socios.fit_transform(prestamos3['Identificador Socio'])\n",
      "C:\\Users\\acer\\AppData\\Local\\Temp\\ipykernel_12528\\228931272.py:5: SettingWithCopyWarning: \n",
      "A value is trying to be set on a copy of a slice from a DataFrame.\n",
      "Try using .loc[row_indexer,col_indexer] = value instead\n",
      "\n",
      "See the caveats in the documentation: https://pandas.pydata.org/pandas-docs/stable/user_guide/indexing.html#returning-a-view-versus-a-copy\n",
      "  prestamos3.loc[:,'COD_LIBRO'] = cod_libros.fit_transform(prestamos3['Título'])\n"
     ]
    }
   ],
   "source": [
    "cod_socios = LabelEncoder()\n",
    "cod_libros = LabelEncoder()\n",
    "\n",
    "prestamos3.loc[:,'COD_SOCIO'] = cod_socios.fit_transform(prestamos3['Identificador Socio'])\n",
    "prestamos3.loc[:,'COD_LIBRO'] = cod_libros.fit_transform(prestamos3['Título'])"
   ]
  },
  {
   "cell_type": "code",
   "execution_count": 21,
   "metadata": {
    "colab": {
     "base_uri": "https://localhost:8080/",
     "height": 206
    },
    "id": "wWYTK8a79UZg",
    "outputId": "9790687f-0d55-4bf7-e7f1-6d638da7940f"
   },
   "outputs": [
    {
     "data": {
      "text/html": [
       "<div>\n",
       "<style scoped>\n",
       "    .dataframe tbody tr th:only-of-type {\n",
       "        vertical-align: middle;\n",
       "    }\n",
       "\n",
       "    .dataframe tbody tr th {\n",
       "        vertical-align: top;\n",
       "    }\n",
       "\n",
       "    .dataframe thead th {\n",
       "        text-align: right;\n",
       "    }\n",
       "</style>\n",
       "<table border=\"1\" class=\"dataframe\">\n",
       "  <thead>\n",
       "    <tr style=\"text-align: right;\">\n",
       "      <th></th>\n",
       "      <th>Identificador Socio</th>\n",
       "      <th>Título</th>\n",
       "      <th>Fecha de préstamo</th>\n",
       "      <th>COD_SOCIO</th>\n",
       "      <th>COD_LIBRO</th>\n",
       "    </tr>\n",
       "  </thead>\n",
       "  <tbody>\n",
       "    <tr>\n",
       "      <th>0</th>\n",
       "      <td>3900488</td>\n",
       "      <td>poesia y prosa con 44 textos sobre el autor</td>\n",
       "      <td>2023-05-12</td>\n",
       "      <td>14571</td>\n",
       "      <td>29753</td>\n",
       "    </tr>\n",
       "    <tr>\n",
       "      <th>1</th>\n",
       "      <td>3900488</td>\n",
       "      <td>jose asuncion silva el corazon del poeta</td>\n",
       "      <td>2023-03-15</td>\n",
       "      <td>14571</td>\n",
       "      <td>20392</td>\n",
       "    </tr>\n",
       "    <tr>\n",
       "      <th>2</th>\n",
       "      <td>3900488</td>\n",
       "      <td>bucaramanga pasado y presente</td>\n",
       "      <td>2023-02-22</td>\n",
       "      <td>14571</td>\n",
       "      <td>4532</td>\n",
       "    </tr>\n",
       "    <tr>\n",
       "      <th>3</th>\n",
       "      <td>3900488</td>\n",
       "      <td>almas en pena chapolas negras</td>\n",
       "      <td>2023-03-15</td>\n",
       "      <td>14571</td>\n",
       "      <td>1295</td>\n",
       "    </tr>\n",
       "    <tr>\n",
       "      <th>6</th>\n",
       "      <td>3900488</td>\n",
       "      <td>santander en mis mejores fotografias</td>\n",
       "      <td>2023-02-22</td>\n",
       "      <td>14571</td>\n",
       "      <td>32931</td>\n",
       "    </tr>\n",
       "  </tbody>\n",
       "</table>\n",
       "</div>"
      ],
      "text/plain": [
       "  Identificador Socio                                       Título  \\\n",
       "0             3900488  poesia y prosa con 44 textos sobre el autor   \n",
       "1             3900488     jose asuncion silva el corazon del poeta   \n",
       "2             3900488                bucaramanga pasado y presente   \n",
       "3             3900488                almas en pena chapolas negras   \n",
       "6             3900488         santander en mis mejores fotografias   \n",
       "\n",
       "  Fecha de préstamo  COD_SOCIO  COD_LIBRO  \n",
       "0        2023-05-12      14571      29753  \n",
       "1        2023-03-15      14571      20392  \n",
       "2        2023-02-22      14571       4532  \n",
       "3        2023-03-15      14571       1295  \n",
       "6        2023-02-22      14571      32931  "
      ]
     },
     "execution_count": 21,
     "metadata": {},
     "output_type": "execute_result"
    }
   ],
   "source": [
    "prestamos3.head()"
   ]
  },
  {
   "cell_type": "code",
   "execution_count": 22,
   "metadata": {
    "colab": {
     "base_uri": "https://localhost:8080/",
     "height": 206
    },
    "id": "ss2WxcsK9lTp",
    "outputId": "97930001-93be-4a8a-c248-9f0d2b846959"
   },
   "outputs": [
    {
     "data": {
      "text/html": [
       "<div>\n",
       "<style scoped>\n",
       "    .dataframe tbody tr th:only-of-type {\n",
       "        vertical-align: middle;\n",
       "    }\n",
       "\n",
       "    .dataframe tbody tr th {\n",
       "        vertical-align: top;\n",
       "    }\n",
       "\n",
       "    .dataframe thead th {\n",
       "        text-align: right;\n",
       "    }\n",
       "</style>\n",
       "<table border=\"1\" class=\"dataframe\">\n",
       "  <thead>\n",
       "    <tr style=\"text-align: right;\">\n",
       "      <th></th>\n",
       "      <th>COD_SOCIO</th>\n",
       "      <th>COD_LIBRO</th>\n",
       "      <th>Fecha de préstamo</th>\n",
       "    </tr>\n",
       "  </thead>\n",
       "  <tbody>\n",
       "    <tr>\n",
       "      <th>0</th>\n",
       "      <td>14571</td>\n",
       "      <td>29753</td>\n",
       "      <td>2023-05-12</td>\n",
       "    </tr>\n",
       "    <tr>\n",
       "      <th>1</th>\n",
       "      <td>14571</td>\n",
       "      <td>20392</td>\n",
       "      <td>2023-03-15</td>\n",
       "    </tr>\n",
       "    <tr>\n",
       "      <th>2</th>\n",
       "      <td>14571</td>\n",
       "      <td>4532</td>\n",
       "      <td>2023-02-22</td>\n",
       "    </tr>\n",
       "    <tr>\n",
       "      <th>3</th>\n",
       "      <td>14571</td>\n",
       "      <td>1295</td>\n",
       "      <td>2023-03-15</td>\n",
       "    </tr>\n",
       "    <tr>\n",
       "      <th>6</th>\n",
       "      <td>14571</td>\n",
       "      <td>32931</td>\n",
       "      <td>2023-02-22</td>\n",
       "    </tr>\n",
       "  </tbody>\n",
       "</table>\n",
       "</div>"
      ],
      "text/plain": [
       "   COD_SOCIO  COD_LIBRO Fecha de préstamo\n",
       "0      14571      29753        2023-05-12\n",
       "1      14571      20392        2023-03-15\n",
       "2      14571       4532        2023-02-22\n",
       "3      14571       1295        2023-03-15\n",
       "6      14571      32931        2023-02-22"
      ]
     },
     "execution_count": 22,
     "metadata": {},
     "output_type": "execute_result"
    }
   ],
   "source": [
    "prestamos4 = prestamos3.get(['COD_SOCIO','COD_LIBRO','Fecha de préstamo'])\n",
    "prestamos4.head()"
   ]
  },
  {
   "cell_type": "markdown",
   "metadata": {
    "id": "opn5Ow809uXc"
   },
   "source": [
    "## Desarrollo motor de recomendación"
   ]
  },
  {
   "cell_type": "markdown",
   "metadata": {
    "id": "EwGtgTt9TtFy"
   },
   "source": [
    "### Train y Test"
   ]
  },
  {
   "cell_type": "code",
   "execution_count": 23,
   "metadata": {},
   "outputs": [
    {
     "name": "stderr",
     "output_type": "stream",
     "text": [
      "C:\\Users\\acer\\AppData\\Local\\Temp\\ipykernel_12528\\1532861923.py:1: SettingWithCopyWarning: \n",
      "A value is trying to be set on a copy of a slice from a DataFrame.\n",
      "Try using .loc[row_indexer,col_indexer] = value instead\n",
      "\n",
      "See the caveats in the documentation: https://pandas.pydata.org/pandas-docs/stable/user_guide/indexing.html#returning-a-view-versus-a-copy\n",
      "  prestamos4['Fecha de préstamo'] = pd.to_datetime(prestamos4['Fecha de préstamo'])\n",
      "C:\\Users\\acer\\AppData\\Local\\Temp\\ipykernel_12528\\1532861923.py:2: SettingWithCopyWarning: \n",
      "A value is trying to be set on a copy of a slice from a DataFrame.\n",
      "Try using .loc[row_indexer,col_indexer] = value instead\n",
      "\n",
      "See the caveats in the documentation: https://pandas.pydata.org/pandas-docs/stable/user_guide/indexing.html#returning-a-view-versus-a-copy\n",
      "  prestamos4.loc[:,'TIEMPO'] = prestamos4['Fecha de préstamo'].astype('int64') // 10**9\n"
     ]
    }
   ],
   "source": [
    "prestamos4['Fecha de préstamo'] = pd.to_datetime(prestamos4['Fecha de préstamo'])\n",
    "prestamos4.loc[:,'TIEMPO'] = prestamos4['Fecha de préstamo'].astype('int64') // 10**9\n",
    "prestamos4.loc[:,'ORDEN'] = prestamos4.groupby(['COD_SOCIO'])['TIEMPO'].rank(method='first', ascending=False)"
   ]
  },
  {
   "cell_type": "code",
   "execution_count": 24,
   "metadata": {},
   "outputs": [],
   "source": [
    "train = prestamos4[prestamos4['ORDEN'] != 1]\n",
    "test = prestamos4[prestamos4['ORDEN'] == 1]\n",
    "\n",
    "train = train[['COD_SOCIO','COD_LIBRO']]\n",
    "test = test[['COD_SOCIO','COD_LIBRO']]"
   ]
  },
  {
   "cell_type": "code",
   "execution_count": 25,
   "metadata": {},
   "outputs": [
    {
     "data": {
      "text/plain": [
       "array([False])"
      ]
     },
     "execution_count": 25,
     "metadata": {},
     "output_type": "execute_result"
    }
   ],
   "source": [
    "verificacion  = test[['COD_SOCIO','COD_LIBRO']].apply(tuple, axis=1).isin(train[['COD_SOCIO','COD_LIBRO']].apply(tuple, axis=1))\n",
    "verificacion.unique()"
   ]
  },
  {
   "cell_type": "markdown",
   "metadata": {},
   "source": [
    "Se verifica que los registros en la base de test no están en la base de train"
   ]
  },
  {
   "cell_type": "markdown",
   "metadata": {
    "id": "HnkNuTefhXAM"
   },
   "source": [
    "### Entrenamiento Red Neuronal"
   ]
  },
  {
   "cell_type": "code",
   "execution_count": 26,
   "metadata": {
    "id": "uPnRj3YhRKrN"
   },
   "outputs": [],
   "source": [
    "class MovieLensTrainDataset(Dataset):\n",
    "    def __init__(self, datos):\n",
    "        self.socios, self.libros, self.labels = self.get_dataset(datos)\n",
    "\n",
    "    def __len__(self):\n",
    "        return len(self.socios)\n",
    "\n",
    "    def __getitem__(self, idx):\n",
    "        return self.socios[idx], self.libros[idx], self.labels[idx]\n",
    "\n",
    "    def get_dataset(self, datos):\n",
    "        socios, libros, labels = [], [], []\n",
    "        user_item_set = set(zip(datos['COD_SOCIO'], datos['COD_LIBRO']))\n",
    "        set_sl = datos['COD_LIBRO'].unique()\n",
    "        \n",
    "        num_negatives = 4\n",
    "        for u, i in user_item_set:\n",
    "            socios.append(u)\n",
    "            libros.append(i)\n",
    "            labels.append(1)\n",
    "            for _ in range(num_negatives):\n",
    "                negative_item = np.random.choice(set_sl)\n",
    "                while (u, negative_item) in user_item_set:\n",
    "                    negative_item = np.random.choice(set_sl)\n",
    "                socios.append(u)\n",
    "                libros.append(negative_item)\n",
    "                labels.append(0)\n",
    "\n",
    "        return torch.tensor(socios), torch.tensor(libros), torch.tensor(labels)"
   ]
  },
  {
   "cell_type": "code",
   "execution_count": 27,
   "metadata": {
    "id": "-UXR2iSVfWLy"
   },
   "outputs": [],
   "source": [
    "class NCF(pl.LightningModule):\n",
    "    def __init__(self, num_users, num_items, datos):\n",
    "        super().__init__()\n",
    "        self.socio_embedding = nn.Embedding(num_embeddings=num_users, embedding_dim=128)\n",
    "        self.libro_embedding = nn.Embedding(num_embeddings=num_items, embedding_dim=128)\n",
    "        self.fc1 = nn.Linear(in_features=256, out_features=512)\n",
    "        self.fc2 = nn.Linear(in_features=512, out_features=256)\n",
    "        self.fc3 = nn.Linear(in_features=256, out_features=128)\n",
    "        self.fc4 = nn.Linear(in_features=128, out_features=64)\n",
    "        self.output = nn.Linear(in_features=64, out_features=1)\n",
    "        self.datos = datos\n",
    "\n",
    "    def forward(self, user_input, item_input):\n",
    "        user_embedded = self.socio_embedding(user_input)\n",
    "        item_embedded = self.libro_embedding(item_input)\n",
    "\n",
    "        vector = torch.cat([user_embedded, item_embedded], dim=-1)\n",
    "        vector = nn.ReLU()(self.fc1(vector))\n",
    "        vector = nn.ReLU()(self.fc2(vector))\n",
    "        vector = nn.ReLU()(self.fc3(vector))\n",
    "        vector = nn.ReLU()(self.fc4(vector))\n",
    "\n",
    "        pred = nn.Sigmoid()(self.output(vector))\n",
    "        return pred\n",
    "\n",
    "    def training_step(self, batch, batch_idx):\n",
    "        user_input, item_input, labels = batch\n",
    "        predicted_labels = self(user_input, item_input)\n",
    "        loss = nn.BCELoss()(predicted_labels, labels.view(-1, 1).float())\n",
    "        return loss\n",
    "\n",
    "    def configure_optimizers(self):\n",
    "        return torch.optim.Adam(self.parameters(),lr=0.1)\n",
    "\n",
    "    def train_dataloader(self):\n",
    "        return DataLoader(MovieLensTrainDataset(self.datos),\n",
    "                          batch_size=512)"
   ]
  },
  {
   "cell_type": "code",
   "execution_count": 28,
   "metadata": {
    "id": "8AX1al7OiNuJ"
   },
   "outputs": [],
   "source": [
    "num_users = prestamos4['COD_SOCIO'].max()+1\n",
    "num_items = prestamos4['COD_LIBRO'].max()+1\n",
    "all_set = prestamos4['COD_LIBRO'].unique()"
   ]
  },
  {
   "cell_type": "code",
   "execution_count": 29,
   "metadata": {
    "colab": {
     "base_uri": "https://localhost:8080/"
    },
    "id": "HOjlowrXkIep",
    "outputId": "1bd56cab-40ed-40f9-d9fe-f8073f6f4c88"
   },
   "outputs": [
    {
     "name": "stderr",
     "output_type": "stream",
     "text": [
      "GPU available: True (cuda), used: True\n",
      "TPU available: False, using: 0 TPU cores\n",
      "IPU available: False, using: 0 IPUs\n",
      "HPU available: False, using: 0 HPUs\n"
     ]
    }
   ],
   "source": [
    "model = NCF(num_users, num_items, train)\n",
    "trainer = pl.Trainer(max_epochs=5, accelerator='gpu', reload_dataloaders_every_n_epochs=1, enable_progress_bar=True)"
   ]
  },
  {
   "cell_type": "code",
   "execution_count": 30,
   "metadata": {
    "colab": {
     "base_uri": "https://localhost:8080/",
     "height": 1000,
     "referenced_widgets": [
      "22de1fd0fe4d4ebca540a88e3a77f328",
      "ef2aaa5cd32c48758553e176e0003115",
      "f6794d7525f64cb49b366113c924d531",
      "a2c8c2bcd5ef4938898e5ac6df226a89",
      "92464f45406b4e35b78cc531c4e57255",
      "19d9b0ee25194eb8894bf55c2dd9cd2b",
      "757cb98e234948babab94b97ec185288",
      "7467d1ba5c7f4d7f96db9ce253f4194f",
      "fcbecbddbba346049ff2b4c7b95783ca",
      "fb69e2f0fba144c18829137d0e888cbb",
      "df9d5bee81574a66a443f51fab0add5e"
     ]
    },
    "id": "tvJn0XeVk6xW",
    "outputId": "6bff90fb-6e3e-4a74-ee80-0fc413bb7caf"
   },
   "outputs": [
    {
     "name": "stderr",
     "output_type": "stream",
     "text": [
      "LOCAL_RANK: 0 - CUDA_VISIBLE_DEVICES: [0]\n",
      "\n",
      "  | Name            | Type      | Params\n",
      "----------------------------------------------\n",
      "0 | socio_embedding | Embedding | 2.8 M \n",
      "1 | libro_embedding | Embedding | 5.0 M \n",
      "2 | fc1             | Linear    | 131 K \n",
      "3 | fc2             | Linear    | 131 K \n",
      "4 | fc3             | Linear    | 32.9 K\n",
      "5 | fc4             | Linear    | 8.3 K \n",
      "6 | output          | Linear    | 65    \n",
      "----------------------------------------------\n",
      "8.1 M     Trainable params\n",
      "0         Non-trainable params\n",
      "8.1 M     Total params\n",
      "32.467    Total estimated model params size (MB)\n",
      "C:\\Users\\acer\\anaconda3\\envs\\my_env\\lib\\site-packages\\pytorch_lightning\\trainer\\connectors\\data_connector.py:224: PossibleUserWarning: The dataloader, train_dataloader, does not have many workers which may be a bottleneck. Consider increasing the value of the `num_workers` argument` (try 16 which is the number of cpus on this machine) in the `DataLoader` init to improve performance.\n",
      "  rank_zero_warn(\n"
     ]
    },
    {
     "data": {
      "application/vnd.jupyter.widget-view+json": {
       "model_id": "192f23845b6f424390d0f1eb9b1a269e",
       "version_major": 2,
       "version_minor": 0
      },
      "text/plain": [
       "Training: 0it [00:00, ?it/s]"
      ]
     },
     "metadata": {},
     "output_type": "display_data"
    },
    {
     "name": "stderr",
     "output_type": "stream",
     "text": [
      "`Trainer.fit` stopped: `max_epochs=5` reached.\n"
     ]
    },
    {
     "name": "stdout",
     "output_type": "stream",
     "text": [
      "CPU times: total: 3min 56s\n",
      "Wall time: 11min 43s\n"
     ]
    }
   ],
   "source": [
    "%%time\n",
    "trainer.fit(model)"
   ]
  },
  {
   "cell_type": "markdown",
   "metadata": {
    "id": "YR2OCJ4SmATy"
   },
   "source": [
    "### Evaluación del motor de recomendación"
   ]
  },
  {
   "cell_type": "code",
   "execution_count": 31,
   "metadata": {
    "id": "YU9lLSAWmD4R"
   },
   "outputs": [],
   "source": [
    "test_set = set(zip(test['COD_SOCIO'], test['COD_LIBRO']))\n",
    "interacciones = prestamos4.groupby('COD_SOCIO')['COD_LIBRO'].apply(list).to_dict()"
   ]
  },
  {
   "cell_type": "code",
   "execution_count": 32,
   "metadata": {},
   "outputs": [
    {
     "name": "stdout",
     "output_type": "stream",
     "text": [
      "The Hit Ratio @ 20 is 1.00\n",
      "CPU times: total: 5min 23s\n",
      "Wall time: 9min 54s\n"
     ]
    }
   ],
   "source": [
    "%%time\n",
    "hits = []\n",
    "predicciones = []\n",
    "for (u,i) in test_set:\n",
    "    interacted_items = interacciones[u]\n",
    "    not_interacted_items = set(all_set) - set(interacted_items)\n",
    "    selected_not_interacted = list(np.random.choice(list(not_interacted_items), 99))\n",
    "    test_items = selected_not_interacted + [i]\n",
    "\n",
    "    predicted_labels = np.squeeze(model(torch.tensor([u]*100),\n",
    "                                        torch.tensor(test_items)).detach().numpy())\n",
    "\n",
    "    top20_items = [test_items[i] for i in np.argsort(predicted_labels)[::-1][0:20].tolist()]\n",
    "\n",
    "    if i in top20_items:\n",
    "        hits.append(1)\n",
    "        predicciones.append([u,i])\n",
    "    else:\n",
    "        hits.append(0)\n",
    "\n",
    "print(\"The Hit Ratio @ 20 is {:.2f}\".format(np.average(hits)))"
   ]
  },
  {
   "cell_type": "markdown",
   "metadata": {
    "id": "Dv0BVjN822mw"
   },
   "source": [
    "#### Se tiene un HIT RATIO 20 de 1"
   ]
  }
 ],
 "metadata": {
  "accelerator": "GPU",
  "colab": {
   "gpuType": "T4",
   "provenance": []
  },
  "kernelspec": {
   "display_name": "Python 3 (ipykernel)",
   "language": "python",
   "name": "python3"
  },
  "language_info": {
   "codemirror_mode": {
    "name": "ipython",
    "version": 3
   },
   "file_extension": ".py",
   "mimetype": "text/x-python",
   "name": "python",
   "nbconvert_exporter": "python",
   "pygments_lexer": "ipython3",
   "version": "3.10.11"
  },
  "widgets": {
   "application/vnd.jupyter.widget-state+json": {
    "19d9b0ee25194eb8894bf55c2dd9cd2b": {
     "model_module": "@jupyter-widgets/base",
     "model_module_version": "1.2.0",
     "model_name": "LayoutModel",
     "state": {
      "_model_module": "@jupyter-widgets/base",
      "_model_module_version": "1.2.0",
      "_model_name": "LayoutModel",
      "_view_count": null,
      "_view_module": "@jupyter-widgets/base",
      "_view_module_version": "1.2.0",
      "_view_name": "LayoutView",
      "align_content": null,
      "align_items": null,
      "align_self": null,
      "border": null,
      "bottom": null,
      "display": null,
      "flex": null,
      "flex_flow": null,
      "grid_area": null,
      "grid_auto_columns": null,
      "grid_auto_flow": null,
      "grid_auto_rows": null,
      "grid_column": null,
      "grid_gap": null,
      "grid_row": null,
      "grid_template_areas": null,
      "grid_template_columns": null,
      "grid_template_rows": null,
      "height": null,
      "justify_content": null,
      "justify_items": null,
      "left": null,
      "margin": null,
      "max_height": null,
      "max_width": null,
      "min_height": null,
      "min_width": null,
      "object_fit": null,
      "object_position": null,
      "order": null,
      "overflow": null,
      "overflow_x": null,
      "overflow_y": null,
      "padding": null,
      "right": null,
      "top": null,
      "visibility": null,
      "width": null
     }
    },
    "22de1fd0fe4d4ebca540a88e3a77f328": {
     "model_module": "@jupyter-widgets/controls",
     "model_module_version": "1.5.0",
     "model_name": "HBoxModel",
     "state": {
      "_dom_classes": [],
      "_model_module": "@jupyter-widgets/controls",
      "_model_module_version": "1.5.0",
      "_model_name": "HBoxModel",
      "_view_count": null,
      "_view_module": "@jupyter-widgets/controls",
      "_view_module_version": "1.5.0",
      "_view_name": "HBoxView",
      "box_style": "",
      "children": [
       "IPY_MODEL_ef2aaa5cd32c48758553e176e0003115",
       "IPY_MODEL_f6794d7525f64cb49b366113c924d531",
       "IPY_MODEL_a2c8c2bcd5ef4938898e5ac6df226a89"
      ],
      "layout": "IPY_MODEL_92464f45406b4e35b78cc531c4e57255"
     }
    },
    "7467d1ba5c7f4d7f96db9ce253f4194f": {
     "model_module": "@jupyter-widgets/base",
     "model_module_version": "1.2.0",
     "model_name": "LayoutModel",
     "state": {
      "_model_module": "@jupyter-widgets/base",
      "_model_module_version": "1.2.0",
      "_model_name": "LayoutModel",
      "_view_count": null,
      "_view_module": "@jupyter-widgets/base",
      "_view_module_version": "1.2.0",
      "_view_name": "LayoutView",
      "align_content": null,
      "align_items": null,
      "align_self": null,
      "border": null,
      "bottom": null,
      "display": null,
      "flex": "2",
      "flex_flow": null,
      "grid_area": null,
      "grid_auto_columns": null,
      "grid_auto_flow": null,
      "grid_auto_rows": null,
      "grid_column": null,
      "grid_gap": null,
      "grid_row": null,
      "grid_template_areas": null,
      "grid_template_columns": null,
      "grid_template_rows": null,
      "height": null,
      "justify_content": null,
      "justify_items": null,
      "left": null,
      "margin": null,
      "max_height": null,
      "max_width": null,
      "min_height": null,
      "min_width": null,
      "object_fit": null,
      "object_position": null,
      "order": null,
      "overflow": null,
      "overflow_x": null,
      "overflow_y": null,
      "padding": null,
      "right": null,
      "top": null,
      "visibility": null,
      "width": null
     }
    },
    "757cb98e234948babab94b97ec185288": {
     "model_module": "@jupyter-widgets/controls",
     "model_module_version": "1.5.0",
     "model_name": "DescriptionStyleModel",
     "state": {
      "_model_module": "@jupyter-widgets/controls",
      "_model_module_version": "1.5.0",
      "_model_name": "DescriptionStyleModel",
      "_view_count": null,
      "_view_module": "@jupyter-widgets/base",
      "_view_module_version": "1.2.0",
      "_view_name": "StyleView",
      "description_width": ""
     }
    },
    "92464f45406b4e35b78cc531c4e57255": {
     "model_module": "@jupyter-widgets/base",
     "model_module_version": "1.2.0",
     "model_name": "LayoutModel",
     "state": {
      "_model_module": "@jupyter-widgets/base",
      "_model_module_version": "1.2.0",
      "_model_name": "LayoutModel",
      "_view_count": null,
      "_view_module": "@jupyter-widgets/base",
      "_view_module_version": "1.2.0",
      "_view_name": "LayoutView",
      "align_content": null,
      "align_items": null,
      "align_self": null,
      "border": null,
      "bottom": null,
      "display": "inline-flex",
      "flex": null,
      "flex_flow": "row wrap",
      "grid_area": null,
      "grid_auto_columns": null,
      "grid_auto_flow": null,
      "grid_auto_rows": null,
      "grid_column": null,
      "grid_gap": null,
      "grid_row": null,
      "grid_template_areas": null,
      "grid_template_columns": null,
      "grid_template_rows": null,
      "height": null,
      "justify_content": null,
      "justify_items": null,
      "left": null,
      "margin": null,
      "max_height": null,
      "max_width": null,
      "min_height": null,
      "min_width": null,
      "object_fit": null,
      "object_position": null,
      "order": null,
      "overflow": null,
      "overflow_x": null,
      "overflow_y": null,
      "padding": null,
      "right": null,
      "top": null,
      "visibility": null,
      "width": "100%"
     }
    },
    "a2c8c2bcd5ef4938898e5ac6df226a89": {
     "model_module": "@jupyter-widgets/controls",
     "model_module_version": "1.5.0",
     "model_name": "HTMLModel",
     "state": {
      "_dom_classes": [],
      "_model_module": "@jupyter-widgets/controls",
      "_model_module_version": "1.5.0",
      "_model_name": "HTMLModel",
      "_view_count": null,
      "_view_module": "@jupyter-widgets/controls",
      "_view_module_version": "1.5.0",
      "_view_name": "HTMLView",
      "description": "",
      "description_tooltip": null,
      "layout": "IPY_MODEL_fb69e2f0fba144c18829137d0e888cbb",
      "placeholder": "​",
      "style": "IPY_MODEL_df9d5bee81574a66a443f51fab0add5e",
      "value": " 2195/2195 [02:31&lt;00:00, 14.49it/s, loss=0.298, v_num=0]"
     }
    },
    "df9d5bee81574a66a443f51fab0add5e": {
     "model_module": "@jupyter-widgets/controls",
     "model_module_version": "1.5.0",
     "model_name": "DescriptionStyleModel",
     "state": {
      "_model_module": "@jupyter-widgets/controls",
      "_model_module_version": "1.5.0",
      "_model_name": "DescriptionStyleModel",
      "_view_count": null,
      "_view_module": "@jupyter-widgets/base",
      "_view_module_version": "1.2.0",
      "_view_name": "StyleView",
      "description_width": ""
     }
    },
    "ef2aaa5cd32c48758553e176e0003115": {
     "model_module": "@jupyter-widgets/controls",
     "model_module_version": "1.5.0",
     "model_name": "HTMLModel",
     "state": {
      "_dom_classes": [],
      "_model_module": "@jupyter-widgets/controls",
      "_model_module_version": "1.5.0",
      "_model_name": "HTMLModel",
      "_view_count": null,
      "_view_module": "@jupyter-widgets/controls",
      "_view_module_version": "1.5.0",
      "_view_name": "HTMLView",
      "description": "",
      "description_tooltip": null,
      "layout": "IPY_MODEL_19d9b0ee25194eb8894bf55c2dd9cd2b",
      "placeholder": "​",
      "style": "IPY_MODEL_757cb98e234948babab94b97ec185288",
      "value": "Epoch 4: 100%"
     }
    },
    "f6794d7525f64cb49b366113c924d531": {
     "model_module": "@jupyter-widgets/controls",
     "model_module_version": "1.5.0",
     "model_name": "FloatProgressModel",
     "state": {
      "_dom_classes": [],
      "_model_module": "@jupyter-widgets/controls",
      "_model_module_version": "1.5.0",
      "_model_name": "FloatProgressModel",
      "_view_count": null,
      "_view_module": "@jupyter-widgets/controls",
      "_view_module_version": "1.5.0",
      "_view_name": "ProgressView",
      "bar_style": "success",
      "description": "",
      "description_tooltip": null,
      "layout": "IPY_MODEL_7467d1ba5c7f4d7f96db9ce253f4194f",
      "max": 2195,
      "min": 0,
      "orientation": "horizontal",
      "style": "IPY_MODEL_fcbecbddbba346049ff2b4c7b95783ca",
      "value": 2195
     }
    },
    "fb69e2f0fba144c18829137d0e888cbb": {
     "model_module": "@jupyter-widgets/base",
     "model_module_version": "1.2.0",
     "model_name": "LayoutModel",
     "state": {
      "_model_module": "@jupyter-widgets/base",
      "_model_module_version": "1.2.0",
      "_model_name": "LayoutModel",
      "_view_count": null,
      "_view_module": "@jupyter-widgets/base",
      "_view_module_version": "1.2.0",
      "_view_name": "LayoutView",
      "align_content": null,
      "align_items": null,
      "align_self": null,
      "border": null,
      "bottom": null,
      "display": null,
      "flex": null,
      "flex_flow": null,
      "grid_area": null,
      "grid_auto_columns": null,
      "grid_auto_flow": null,
      "grid_auto_rows": null,
      "grid_column": null,
      "grid_gap": null,
      "grid_row": null,
      "grid_template_areas": null,
      "grid_template_columns": null,
      "grid_template_rows": null,
      "height": null,
      "justify_content": null,
      "justify_items": null,
      "left": null,
      "margin": null,
      "max_height": null,
      "max_width": null,
      "min_height": null,
      "min_width": null,
      "object_fit": null,
      "object_position": null,
      "order": null,
      "overflow": null,
      "overflow_x": null,
      "overflow_y": null,
      "padding": null,
      "right": null,
      "top": null,
      "visibility": null,
      "width": null
     }
    },
    "fcbecbddbba346049ff2b4c7b95783ca": {
     "model_module": "@jupyter-widgets/controls",
     "model_module_version": "1.5.0",
     "model_name": "ProgressStyleModel",
     "state": {
      "_model_module": "@jupyter-widgets/controls",
      "_model_module_version": "1.5.0",
      "_model_name": "ProgressStyleModel",
      "_view_count": null,
      "_view_module": "@jupyter-widgets/base",
      "_view_module_version": "1.2.0",
      "_view_name": "StyleView",
      "bar_color": null,
      "description_width": ""
     }
    }
   }
  }
 },
 "nbformat": 4,
 "nbformat_minor": 4
}
